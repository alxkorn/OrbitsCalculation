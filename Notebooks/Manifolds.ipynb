{
 "cells": [
  {
   "cell_type": "code",
   "execution_count": 1,
   "metadata": {
    "collapsed": true
   },
   "outputs": [],
   "source": [
    "%matplotlib notebook\n",
    "import orbipy as op\n",
    "import numpy as np\n",
    "import pandas as pd\n",
    "import pickle\n",
    "import matplotlib.pyplot as plt\n",
    "from copy import copy"
   ]
  },
  {
   "cell_type": "code",
   "execution_count": 2,
   "metadata": {
    "collapsed": true
   },
   "outputs": [],
   "source": [
    "model = op.crtbp3_model()\n",
    "precise_model = op.crtbp3_model()\n",
    "precise_model.integrator.set_params(max_step=np.pi/180)\n",
    "plotter = op.plotter.from_model(model, length_units='nd', velocity_units='nd/nd')\n",
    "scaler = plotter.scaler"
   ]
  },
  {
   "cell_type": "code",
   "execution_count": 3,
   "metadata": {
    "collapsed": true
   },
   "outputs": [],
   "source": [
    "def interactive_map(data, buffer):\n",
    "    def onclick(event):\n",
    "        if event.button == 3:\n",
    "            ix, iy = event.xdata, event.ydata\n",
    "            buffer.append([ix, iy])\n",
    "            ax.plot(ix, iy, 'or')\n",
    "    \n",
    "    fig = plt.figure()\n",
    "    ax = fig.add_subplot(111)\n",
    "    ax.plot(data['x0'], data['z0'], 'ob')\n",
    "    ax.plot(s0[0],s0[2],'xr')\n",
    "    ax.axis('equal')\n",
    "    cid = fig.canvas.mpl_connect('button_press_event', onclick)"
   ]
  },
  {
   "cell_type": "code",
   "execution_count": null,
   "metadata": {
    "collapsed": true
   },
   "outputs": [],
   "source": [
    "with open('amp.pkl', 'rb') as fp:\n",
    "    applicability = pickle.load(fp)"
   ]
  },
  {
   "cell_type": "code",
   "execution_count": null,
   "metadata": {
    "collapsed": true
   },
   "outputs": [],
   "source": [
    "buffer = []\n",
    "interactive_map(applicability, buffer)"
   ]
  },
  {
   "cell_type": "code",
   "execution_count": null,
   "metadata": {
    "collapsed": true
   },
   "outputs": [],
   "source": [
    "x0 = buffer[-1][0]\n",
    "z0 = buffer[-1][1]"
   ]
  },
  {
   "cell_type": "code",
   "execution_count": null,
   "metadata": {
    "collapsed": true
   },
   "outputs": [],
   "source": [
    "def manifolds(s0, dv, num=200):\n",
    "    traj_upper = []\n",
    "    traj_lower = []\n",
    "    shift = 0\n",
    "    v_upper = np.linspace(s0[4]+shift, s0[4] + dv, num)\n",
    "    v_lower = np.linspace(s0[4] - dv, s0[4]-shift, num)[:-1]\n",
    "    det = op.event_detector(model, [left, right])\n",
    "    for v in v_upper:\n",
    "        s1 = s0.copy()\n",
    "        s1[4] = v\n",
    "        orb, _ = det.prop(s1, 0.0, 100, last_state='last')\n",
    "        traj_upper.append(orb)\n",
    "    for v in v_lower:\n",
    "        s1 = s0.copy()\n",
    "        s1[4] = v\n",
    "        orb, _ = det.prop(s1, 0.0, 100, last_state='last')\n",
    "        traj_lower.append(orb)\n",
    "    \n",
    "    return traj_lower, traj_upper"
   ]
  },
  {
   "cell_type": "code",
   "execution_count": null,
   "metadata": {
    "collapsed": true
   },
   "outputs": [],
   "source": [
    "trl, tru = manifolds(df.iloc[0].values[1:], 1e-9)"
   ]
  },
  {
   "cell_type": "code",
   "execution_count": null,
   "metadata": {
    "collapsed": true
   },
   "outputs": [],
   "source": [
    "for orb in tru:\n",
    "    plt.plot(orb['x'], orb['y'], 'k')\n",
    "for orb in trl:\n",
    "    plt.plot(orb['x'], orb['y'], 'b')\n",
    "plt.plot(df['x'], df['y'], 'r', alpha=0.3)"
   ]
  }
 ],
 "metadata": {
  "kernelspec": {
   "display_name": "Python [conda env:orbit]",
   "language": "python",
   "name": "conda-env-orbit-py"
  },
  "language_info": {
   "codemirror_mode": {
    "name": "ipython",
    "version": 3
   },
   "file_extension": ".py",
   "mimetype": "text/x-python",
   "name": "python",
   "nbconvert_exporter": "python",
   "pygments_lexer": "ipython3",
   "version": "3.6.7"
  }
 },
 "nbformat": 4,
 "nbformat_minor": 1
}
