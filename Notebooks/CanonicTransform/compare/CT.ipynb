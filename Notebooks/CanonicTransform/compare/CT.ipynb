{
 "cells": [
  {
   "cell_type": "code",
   "execution_count": 7,
   "metadata": {},
   "outputs": [],
   "source": [
    "import sympy as sp\n",
    "import orbipy as op"
   ]
  },
  {
   "cell_type": "code",
   "execution_count": 455,
   "metadata": {},
   "outputs": [],
   "source": [
    "import math\n",
    "import numpy as np"
   ]
  },
  {
   "cell_type": "code",
   "execution_count": 9,
   "metadata": {},
   "outputs": [],
   "source": [
    "model = op.crtbp3_model()"
   ]
  },
  {
   "cell_type": "code",
   "execution_count": 532,
   "metadata": {},
   "outputs": [],
   "source": [
    "class CT:\n",
    "    def __init__(self, model):\n",
    "        self.c2 = self.c(2)\n",
    "        self.mu = model.mu\n",
    "        self.g = 1.-model.mu - model.L1\n",
    "        self.w1 = sp.sqrt((self.c2 - 2 - sp.sqrt(9*self.c2**2 - 8*self.c2))/(-2))\n",
    "        self.w2 = sp.sqrt(self.c2)\n",
    "        self.l1 = sp.sqrt((self.c2 - 2 + sp.sqrt(9*self.c2**2 - 8*self.c2))/2)\n",
    "        self.s1 = sp.sqrt(2*self.l1*((4 + 3*self.c2)*self.l1**2 + 4 + 5*self.c2 - 6*self.c2**2))\n",
    "        self.s2 = sp.sqrt(self.w1*((4 + 3*self.c2)*self.w1**2 - 4 - 5*self.c2 + 6*self.c2**2))\n",
    "    \n",
    "    def c(self, n):\n",
    "        g = sp.Symbol('g')\n",
    "        mu = sp.Symbol('mu')\n",
    "        return (mu+((-1)**n)*((1 - mu)*g**(n + 1))/((1 - g)**(n + 1)))/g**3\n",
    "\n",
    "    def h(self, n):\n",
    "        if n<=2:\n",
    "            raise RuntimeError('n must be > 2')\n",
    "        x,y,z = sp.symbols('x y z')\n",
    "        sq = sp.sqrt(x**2+y**2+z**2)\n",
    "        return self.c(n)*sq**n*sp.together(sp.legendre(n, x/sq))\n",
    "    \n",
    "    def R(self):\n",
    "        return sp.Matrix([[2*self.l1/self.s1,0,0,-2*self.l1/self.s1, 2*self.w1/self.s2,0],\n",
    "                      [(self.l1**2-2*self.c2-1)/self.s1,(-self.w1**2-2*self.c2-1)/self.s2,0,(self.l1**2-2*self.c2-1)/self.s1,0,0],\n",
    "                      [0,0,1/sp.sqrt(self.w2),0,0,0],\n",
    "                      [(self.l1**2+2*self.c2+1)/self.s1,(-self.w1**2+2*self.c2+1)/self.s2,0,(self.l1**2+2*self.c2+1)/self.s1,0,0],\n",
    "                      [(self.l1**3+(1-2*self.c2)*self.l1)/self.s1,0,0,(-self.l1**3-(1-2*self.c2)*self.l1)/self.s1,(-self.w1**3+(1-2*self.c2)*self.w1)/self.s2,0],\n",
    "                      [0,0,0,0,0,sp.sqrt(self.w2)]]).subs({'g': ct.g, 'mu':ct.mu}).evalf()\n",
    "    \n",
    "    def symp_change(self):\n",
    "        x,y,z,px,py,pz = sp.symbols('x1 y1 z1 px1 py1 pz1')\n",
    "        mat = sp.Matrix([[x],[y],[z],[px],[py],[pz]])\n",
    "        return self.R()*mat\n",
    "    \n",
    "    def h_symp(self, n):\n",
    "        x, y,z, px, py, pz = sp.symbols('x y z px py pz')\n",
    "        change = self.symp_change()\n",
    "        h = self.h(n)\n",
    "        h = h.subs({'x': change[0], 'y': change[1], 'z': change[2]})\n",
    "        h = h.subs({'x1': x, 'y1': y, 'z1': z, 'px1': px, 'py1': py, 'pz1': pz})\n",
    "        h = h.subs({'g': ct.g, 'mu':ct.mu}).expand().evalf()\n",
    "        return h\n",
    "    \n",
    "    def h_complex(self, n):\n",
    "        y1,z1,py1,pz1 = sp.symbols('y1 z1 py1 pz1')\n",
    "        y,z,py,pz = sp.symbols('y z py pz')\n",
    "        sq2 = math.sqrt(2)\n",
    "        y_change = (y1 + sp.I*py1)/sq2\n",
    "        z_change = (z1 + sp.I*pz1)/sq2\n",
    "        py_change = (py1 + sp.I*y1)/sq2\n",
    "        pz_change = (pz1 + sp.I*z1)/sq2\n",
    "        if n == 2:\n",
    "            h = self.h2_symp()\n",
    "        elif n>2:\n",
    "            h = self.h_symp(n)\n",
    "        else:\n",
    "            raise RuntimeError('unsupported n')\n",
    "        h = h.subs({'y': y_change, 'z': z_change, 'py': py_change, 'pz': pz_change}).expand()\n",
    "        h = h.subs({'y1': y, 'z1': z, 'py1': py, 'pz1': pz})\n",
    "        return h #self.chop(h)\n",
    "    \n",
    "    def gen_func(self, h_comp):\n",
    "        x, y,z,px,py,pz = sp.symbols('x y z px py pz')\n",
    "        n1 = self.l1.subs({'g': ct.g, 'mu':ct.mu}).evalf()\n",
    "        n2 = sp.I*self.w1.subs({'g': ct.g, 'mu':ct.mu}).evalf()\n",
    "        n3 = sp.I*self.w2.subs({'g': ct.g, 'mu':ct.mu}).evalf()\n",
    "        pol = sp.Poly(h_comp, x,y,z,px,py,pz)\n",
    "        mons = pol.monoms()\n",
    "        gen = 0\n",
    "        for mon in mons:\n",
    "            a1 = (mon[3]-mon[0])\n",
    "            a2 = (mon[4]-mon[1])\n",
    "            a3 = (mon[5]-mon[2])\n",
    "            if not (a1==0 and a2==0 and a3==0):\n",
    "                denominator = a1*n1 + a2*n2 + a3*n3\n",
    "                sym_part = x**mon[0]*y**mon[1]*z**mon[2]*px**mon[3]*py**mon[4]*pz**mon[5]\n",
    "                coef = -1*pol.coeff_monomial(mon)\n",
    "                gen += coef*sym_part/denominator\n",
    "        return gen.expand()\n",
    "    \n",
    "    def pbracket(self, f, g):\n",
    "        x, y,z, px, py, pz = sp.symbols('x y z px py pz')\n",
    "        q = [x ,y ,z]\n",
    "        p = [px, py, pz]\n",
    "        res = 0\n",
    "        for i in range(3):\n",
    "            res += sp.diff(f, q[i])*sp.diff(g, p[i]) - sp.diff(f, p[i])*sp.diff(g, q[i])\n",
    "        return res.expand()\n",
    "    \n",
    "    def h2(self):\n",
    "        x, y,z, px, py, pz = sp.symbols('x y z px py pz')\n",
    "        h = (self.c2*(-2*x**2 + y**2 + z**2) + 2*y*px - 2*x*py + px**2 + py**2 + pz**2)/2\n",
    "        return h\n",
    "    \n",
    "    def h2_symp(self):\n",
    "        change = self.symp_change()\n",
    "        h = self.h2().subs({'x': change[0], 'y': change[1], 'z': change[2], 'px': change[3], 'py': change[4], 'pz': change[5]})\n",
    "        x, y,z, px, py, pz = sp.symbols('x y z px py pz')\n",
    "        h = h.subs({'x1': x, 'y1': y, 'z1': z, 'px1': px, 'py1': py, 'pz1': pz})\n",
    "        h = h.subs({'g': ct.g, 'mu':ct.mu}).expand()\n",
    "        return h #self.chop(h)\n",
    "    \n",
    "    def chop(self, h):\n",
    "        x, y,z,px,py,pz = sp.symbols('x y z px py pz')\n",
    "        pol = sp.Poly(h, x,y,z,px,py,pz)\n",
    "        mons = pol.monoms()\n",
    "        h_new = 0\n",
    "#         import pdb; pdb.set_trace()\n",
    "        for mon in mons:\n",
    "            coef = pol.coeff_monomial(mon)\n",
    "            coef_chopped = self.chop_coef(coef)\n",
    "            a, b = coef_chopped.as_real_imag()\n",
    "            if abs(a)+abs(b) > 0:\n",
    "                sym_part = x**mon[0]*y**mon[1]*z**mon[2]*px**mon[3]*py**mon[4]*pz**mon[5]\n",
    "                h_new += coef_chopped*sym_part\n",
    "        \n",
    "        return h_new\n",
    "    \n",
    "    def chop_coef(self, coef):\n",
    "        a, b = coef.as_real_imag()\n",
    "        new_coef = self.chop_num(a) + self.chop_num(b)*sp.I\n",
    "#         print('Old coef: {}; New coef: {}'.format(coef, new_coef))\n",
    "        return new_coef\n",
    "\n",
    "    def chop_num(self, num, tol=1e-14):\n",
    "        if abs(num) > tol:\n",
    "            return num\n",
    "        else:\n",
    "            return 0\n",
    "        \n",
    "    def new_var(self, var, g, n):\n",
    "        new_var = 0\n",
    "        prev = 0\n",
    "        new_var += var\n",
    "        prev += new_var\n",
    "        for i in np.arange(1, n+1):\n",
    "            cur = self.pbracket(prev, g)\n",
    "            new_var += cur/math.factorial(i)\n",
    "            prev = cur.copy()\n",
    "            \n",
    "        return new_var.expand()#self.realify(new_var)\n",
    "    \n",
    "    \n",
    "    def realify(self, expr):\n",
    "        y1,z1,py1,pz1 = sp.symbols('y1 z1 py1 pz1')\n",
    "        y,z,py,pz = sp.symbols('y z py pz')\n",
    "        sq2 = math.sqrt(2)\n",
    "        y_change = (y1 - sp.I*py1)/sq2\n",
    "        z_change = (z1 - sp.I*pz1)/sq2\n",
    "        py_change = (py1 - sp.I*y1)/sq2\n",
    "        pz_change = (pz1 - sp.I*z1)/sq2\n",
    "        \n",
    "        real_expr = expr.subs({'y': y_change, 'z': z_change, 'py': py_change, 'pz': pz_change})\n",
    "        real_expr = real_expr.subs({'y1': y, 'z1': z, 'py1': py, 'pz1': pz})\n",
    "        \n",
    "        return real_expr.expand()"
   ]
  },
  {
   "cell_type": "code",
   "execution_count": 638,
   "metadata": {},
   "outputs": [],
   "source": [
    "def print_coef_rules(h):\n",
    "    x, y,z,px,py,pz = sp.symbols('x y z px py pz')\n",
    "    pol = sp.Poly(h, x,y,z,px,py,pz)\n",
    "    mons = pol.monoms()\n",
    "    print(len(mons))\n",
    "    for i, mon in enumerate(mons):\n",
    "        print(\"{}: {} -> {}\".format(i, mon, pol.coeff_monomial(mon)))"
   ]
  },
  {
   "cell_type": "code",
   "execution_count": 533,
   "metadata": {},
   "outputs": [],
   "source": [
    "ct = CT(model)"
   ]
  },
  {
   "cell_type": "markdown",
   "metadata": {},
   "source": [
    "Оргинальный гамильтониан $H = H_2 + \\sum_{i=3}^\\infty H_i$ "
   ]
  },
  {
   "cell_type": "markdown",
   "metadata": {},
   "source": [
    "$H_2$-мономы второй степени оригинального полинома (в комплексном виде)"
   ]
  },
  {
   "cell_type": "code",
   "execution_count": null,
   "metadata": {},
   "outputs": [],
   "source": [
    "h2c = ct.h_complex(2)"
   ]
  },
  {
   "cell_type": "markdown",
   "metadata": {},
   "source": [
    "$H_3$-мономы третьей степени оригинального полинома (в комплексном виде)"
   ]
  },
  {
   "cell_type": "code",
   "execution_count": null,
   "metadata": {},
   "outputs": [],
   "source": [
    "h3c = ct.h_complex(3)"
   ]
  },
  {
   "cell_type": "markdown",
   "metadata": {},
   "source": [
    "$G_3$ - производящая функция (в комплексном виде)"
   ]
  },
  {
   "cell_type": "code",
   "execution_count": null,
   "metadata": {},
   "outputs": [],
   "source": [
    "g3 = ct.gen_func(h3c)"
   ]
  },
  {
   "cell_type": "markdown",
   "metadata": {},
   "source": [
    "Новый гамильтониан $\\hat{H} = H + \\{ H,G_3\\} + \\frac{1}{2!} \\{\\{ H,G_3\\} ,G_3\\} + \\dots$\n",
    "\n",
    "$\\hat{H}_2 = H_2$\n",
    "\n",
    "$\\hat{H}_3 = H_3 + \\{ H_2,G_3\\}$\n",
    "\n",
    "$\\hat{H}_4 = H_4 + \\{ H_3,G_3\\} + \\frac{1}{2}\\{\\{ H_2,G_3\\} , G_3\\}$"
   ]
  },
  {
   "cell_type": "markdown",
   "metadata": {},
   "source": [
    "$\\hat{H}_3$="
   ]
  },
  {
   "cell_type": "code",
   "execution_count": 604,
   "metadata": {},
   "outputs": [
    {
     "data": {
      "text/plain": [
       "0"
      ]
     },
     "execution_count": 604,
     "metadata": {},
     "output_type": "execute_result"
    }
   ],
   "source": [
    "h2g3 = ct.pbracket(h2c, g3).expand()\n",
    "res = ct.chop((h3c + h2g3).simplify())\n",
    "res"
   ]
  },
  {
   "cell_type": "markdown",
   "metadata": {},
   "source": [
    "$\\hat{H}_4$ = "
   ]
  },
  {
   "cell_type": "code",
   "execution_count": 535,
   "metadata": {},
   "outputs": [],
   "source": [
    "h3g3 = ct.pbracket(h3c, g3)\n",
    "h2g3g3 = ct.pbracket(h2g3,g3)\n",
    "\n",
    "h24=ct.h_complex(4)+h3g3+(h2g3g3)/2\n",
    "h24 = ct.chop(h24.expand())"
   ]
  },
  {
   "cell_type": "markdown",
   "metadata": {},
   "source": [
    "$G_4$ - производящая функция"
   ]
  },
  {
   "cell_type": "code",
   "execution_count": 537,
   "metadata": {},
   "outputs": [],
   "source": [
    "g4 = ct.gen_func(h24)"
   ]
  },
  {
   "cell_type": "markdown",
   "metadata": {},
   "source": [
    "Новый гамильтониан $\\tilde{H} = \\hat{H} + \\{ \\hat{H},G_4\\} + \\frac{1}{2!} \\{\\{ \\hat{H},G_4\\} ,G_4\\} + \\dots$\n",
    "\n",
    "$\\tilde{H}_2 = H_2$\n",
    "\n",
    "$\\tilde{H}_3 = 0$\n",
    "\n",
    "$\\tilde{H}_4 = \\hat{H}_4 + \\{ \\hat{H}_2,G_4\\} =$"
   ]
  },
  {
   "cell_type": "code",
   "execution_count": 538,
   "metadata": {},
   "outputs": [
    {
     "data": {
      "text/latex": [
       "$\\displaystyle 1.32193627173593 px^{2} x^{2} + 3.22427953091787 i px py x y + 2.87855762692204 i px pz x z - 0.844084910107101 py^{2} y^{2} - 0.859677804016423 py pz y z - 0.758573690186595 pz^{2} z^{2}$"
      ],
      "text/plain": [
       "1.32193627173593*px**2*x**2 + 3.22427953091787*I*px*py*x*y + 2.87855762692204*I*px*pz*x*z - 0.844084910107101*py**2*y**2 - 0.859677804016423*py*pz*y*z - 0.758573690186595*pz**2*z**2"
      ]
     },
     "execution_count": 538,
     "metadata": {},
     "output_type": "execute_result"
    }
   ],
   "source": [
    "res2 = ct.chop((h24+ct.pbracket(h2c, g4)).expand())\n",
    "res2"
   ]
  },
  {
   "cell_type": "markdown",
   "metadata": {},
   "source": [
    "Остались мономы, в которых все степени одинаковые"
   ]
  },
  {
   "cell_type": "markdown",
   "metadata": {},
   "source": [
    "$\\tilde{H}_5 = \\hat{H}_5 $\n",
    "\n",
    "$\\hat{H} = H + \\{ H,G_3\\} + \\frac{1}{2!} \\{\\{ H,G_3\\} ,G_3\\} + \\dots$\n",
    "\n",
    "$\\hat{H}_5 = H_5 + \\{ H_4,G_3\\} + \\frac{1}{2!} \\{\\{ H_3,G_3\\} ,G_3\\} +\\frac{1}{3!} \\{  \\{\\{ H_2,G_3\\} ,G_3\\},G_3\\}=$"
   ]
  },
  {
   "cell_type": "code",
   "execution_count": 610,
   "metadata": {},
   "outputs": [],
   "source": [
    "h5_hat = ct.h_complex(5) + ct.pbracket(ct.h_complex(4), g3) + ct.pbracket(h3g3, g3)/2 + ct.pbracket(h2g3g3, g3)/6\n",
    "h5_hat = h5_hat.expand()"
   ]
  },
  {
   "cell_type": "markdown",
   "metadata": {},
   "source": [
    "$G_5=$"
   ]
  },
  {
   "cell_type": "code",
   "execution_count": 612,
   "metadata": {},
   "outputs": [],
   "source": [
    "g5 = ct.gen_func(h5_hat)"
   ]
  },
  {
   "cell_type": "markdown",
   "metadata": {},
   "source": [
    "$\\bar{H} = \\tilde{H} + \\{ \\tilde{H},G_5\\} + \\frac{1}{2!} \\{\\{ \\tilde{H},G_5\\} ,G_5\\} + \\dots$\n",
    "\n",
    "$\\bar{H}_5 = \\tilde{H}_5 +  \\{ \\tilde{H}_2, G_5\\}=$"
   ]
  },
  {
   "cell_type": "code",
   "execution_count": 615,
   "metadata": {},
   "outputs": [
    {
     "data": {
      "text/plain": [
       "0"
      ]
     },
     "execution_count": 615,
     "metadata": {},
     "output_type": "execute_result"
    }
   ],
   "source": [
    "res3 = ct.chop(h5_hat + ct.pbracket(h2c, g5))\n",
    "res3"
   ]
  },
  {
   "cell_type": "markdown",
   "metadata": {},
   "source": [
    "Формула для вычисления компоненты x - соответствующей гамильтониану $\\hat{H}$"
   ]
  },
  {
   "cell_type": "code",
   "execution_count": 605,
   "metadata": {},
   "outputs": [
    {
     "data": {
      "text/latex": [
       "$\\displaystyle 0.0264277499984091 px^{2} py + 0.0815992412872559 px^{2} x + 0.0162001404123427 px^{2} y + 0.0493329683360396 px^{2} + 0.0282943570534649 px py^{2} + 0.0231047637023565 px py x + 0.0449980539210955 px py y - 0.199849945064169 px py + 0.0281692481928682 px pz^{2} + 0.0251324283189624 px pz z + 0.0677359012833492 px x^{2} + 0.0568719480412226 px x y - 0.592139176911852 px x + 0.0713187108395275 px y^{2} - 0.175006884837044 px y + 0.0737972645121678 px z^{2} - 0.00608776120416747 py^{3} + 0.0498985877435698 py^{2} x + 0.0267593656742168 py^{2} y - 0.0761397580092677 py^{2} - 0.00245538232581553 py pz^{2} - 0.00130392957760074 py pz z + 0.0791077011471059 py x^{2} + 0.108118036725567 py x y - 0.00280322423674001 py y^{2} - 0.196537185400899 py y - 0.0733286406739247 py z^{2} + 0.0442069661278257 pz^{2} x + 0.0278935396858513 pz^{2} y - 0.132618513495058 pz^{2} + 0.0609003205062315 pz x z + 0.0589789537060891 pz y z - 0.166669663845512 pz z + 0.0815992412872558 x^{3} + 0.05843014027954 x^{2} y - 0.296069588455926 x^{2} - 0.0419258512319795 x y^{2} - 0.413589336682199 x y - 0.0791182260794579 x z^{2} + x + 0.00726261784873192 y^{3} - 0.285290073330556 y^{2} + 0.00661453320098586 y z^{2} - 0.237350409948607 z^{2}$"
      ],
      "text/plain": [
       "0.0264277499984091*px**2*py + 0.0815992412872559*px**2*x + 0.0162001404123427*px**2*y + 0.0493329683360396*px**2 + 0.0282943570534649*px*py**2 + 0.0231047637023565*px*py*x + 0.0449980539210955*px*py*y - 0.199849945064169*px*py + 0.0281692481928682*px*pz**2 + 0.0251324283189624*px*pz*z + 0.0677359012833492*px*x**2 + 0.0568719480412226*px*x*y - 0.592139176911852*px*x + 0.0713187108395275*px*y**2 - 0.175006884837044*px*y + 0.0737972645121678*px*z**2 - 0.00608776120416747*py**3 + 0.0498985877435698*py**2*x + 0.0267593656742168*py**2*y - 0.0761397580092677*py**2 - 0.00245538232581553*py*pz**2 - 0.00130392957760074*py*pz*z + 0.0791077011471059*py*x**2 + 0.108118036725567*py*x*y - 0.00280322423674001*py*y**2 - 0.196537185400899*py*y - 0.0733286406739247*py*z**2 + 0.0442069661278257*pz**2*x + 0.0278935396858513*pz**2*y - 0.132618513495058*pz**2 + 0.0609003205062315*pz*x*z + 0.0589789537060891*pz*y*z - 0.166669663845512*pz*z + 0.0815992412872558*x**3 + 0.05843014027954*x**2*y - 0.296069588455926*x**2 - 0.0419258512319795*x*y**2 - 0.413589336682199*x*y - 0.0791182260794579*x*z**2 + x + 0.00726261784873192*y**3 - 0.285290073330556*y**2 + 0.00661453320098586*y*z**2 - 0.237350409948607*z**2"
      ]
     },
     "execution_count": 605,
     "metadata": {},
     "output_type": "execute_result"
    }
   ],
   "source": [
    "g3_real = ct.realify(g3)\n",
    "x_new_real = ct.chop(ct.new_var(x, g3_real, 2))\n",
    "x_new_real"
   ]
  },
  {
   "cell_type": "markdown",
   "metadata": {},
   "source": [
    "Формула для вычисления компоненты x - соответствующей гамильтониану $\\tilde{H}$"
   ]
  },
  {
   "cell_type": "code",
   "execution_count": 609,
   "metadata": {
    "scrolled": true
   },
   "outputs": [],
   "source": [
    "g4_real = ct.realify(g4)\n",
    "x_new_real2 = ct.new_var(x_new_real, g4_real, 2)\n",
    "x_new_real2 = ct.chop(x_new_real2)\n",
    "x_new_real2"
   ]
  },
  {
   "cell_type": "code",
   "execution_count": 653,
   "metadata": {},
   "outputs": [],
   "source": [
    "# print_coef_rules(x_new_real2)"
   ]
  },
  {
   "cell_type": "markdown",
   "metadata": {},
   "source": [
    "Формула для вычисления компоненты x - соответствующей гамильтониану $\\bar{H}$"
   ]
  },
  {
   "cell_type": "code",
   "execution_count": 634,
   "metadata": {},
   "outputs": [],
   "source": [
    "g5_real = ct.chop(ct.realify(g5))"
   ]
  },
  {
   "cell_type": "code",
   "execution_count": 645,
   "metadata": {},
   "outputs": [],
   "source": [
    "x_new_real3 = ct.new_var(x_new_real2, g5_real, 1)"
   ]
  },
  {
   "cell_type": "code",
   "execution_count": 646,
   "metadata": {},
   "outputs": [],
   "source": [
    "x_new_real3 = ct.chop(x_new_real3)"
   ]
  },
  {
   "cell_type": "code",
   "execution_count": 654,
   "metadata": {
    "scrolled": true
   },
   "outputs": [],
   "source": [
    "# print_coef_rules(x_new_real3)"
   ]
  },
  {
   "cell_type": "markdown",
   "metadata": {},
   "source": [
    "Аналогично для px"
   ]
  },
  {
   "cell_type": "code",
   "execution_count": 592,
   "metadata": {},
   "outputs": [],
   "source": [
    "px_new_real = ct.chop(ct.new_var(px, g3_real, 2))"
   ]
  },
  {
   "cell_type": "code",
   "execution_count": 593,
   "metadata": {},
   "outputs": [],
   "source": [
    "px_new_real2 = ct.new_var(px_new_real, g4_real, 2)\n",
    "px_new_real2 = ct.chop(px_new_real2)"
   ]
  },
  {
   "cell_type": "code",
   "execution_count": 650,
   "metadata": {},
   "outputs": [],
   "source": [
    "px_new_real3 = ct.new_var(px_new_real2, g5_real, 1)\n",
    "px_new_real3 = ct.chop(px_new_real3)"
   ]
  },
  {
   "cell_type": "markdown",
   "metadata": {},
   "source": [
    "Сохранение"
   ]
  },
  {
   "cell_type": "code",
   "execution_count": 549,
   "metadata": {},
   "outputs": [],
   "source": [
    "from sympy.utilities.lambdify import lambdify"
   ]
  },
  {
   "cell_type": "code",
   "execution_count": 629,
   "metadata": {},
   "outputs": [],
   "source": [
    "x, y,z,px,py,pz = sp.symbols('x y z px py pz')\n",
    "f3 = lambdify([x,y,z,px,py,pz], x_new_real, modules='numpy')\n",
    "f4 = lambdify([x,y,z,px,py,pz], x_new_real2, modules='numpy')"
   ]
  },
  {
   "cell_type": "code",
   "execution_count": 648,
   "metadata": {},
   "outputs": [],
   "source": [
    "f5 = lambdify([x,y,z,px,py,pz], x_new_real3, modules='numpy')"
   ]
  },
  {
   "cell_type": "code",
   "execution_count": 583,
   "metadata": {},
   "outputs": [],
   "source": [
    "import dill\n",
    "dill.settings['recurse'] = True"
   ]
  },
  {
   "cell_type": "code",
   "execution_count": 607,
   "metadata": {},
   "outputs": [],
   "source": [
    "dill.dump(f3, open(\"x3.bin\", \"wb\"))"
   ]
  },
  {
   "cell_type": "code",
   "execution_count": 608,
   "metadata": {},
   "outputs": [],
   "source": [
    "dill.dump(f4, open(\"x4.bin\", \"wb\"))"
   ]
  },
  {
   "cell_type": "code",
   "execution_count": 649,
   "metadata": {},
   "outputs": [],
   "source": [
    "dill.dump(f5, open(\"x5.bin\", \"wb\"))"
   ]
  },
  {
   "cell_type": "code",
   "execution_count": 594,
   "metadata": {},
   "outputs": [],
   "source": [
    "px3 = lambdify([x,y,z,px,py,pz], px_new_real, modules='numpy')\n",
    "px4 = lambdify([x,y,z,px,py,pz], px_new_real2, modules='numpy')"
   ]
  },
  {
   "cell_type": "code",
   "execution_count": 651,
   "metadata": {},
   "outputs": [],
   "source": [
    "px5 = lambdify([x,y,z,px,py,pz], px_new_real3, modules='numpy')"
   ]
  },
  {
   "cell_type": "code",
   "execution_count": 595,
   "metadata": {},
   "outputs": [],
   "source": [
    "dill.dump(px3, open(\"px3.bin\", \"wb\"))\n",
    "dill.dump(px4, open(\"px4.bin\", \"wb\"))"
   ]
  },
  {
   "cell_type": "code",
   "execution_count": 652,
   "metadata": {},
   "outputs": [],
   "source": [
    "dill.dump(px5, open(\"px5.bin\", \"wb\"))"
   ]
  },
  {
   "cell_type": "code",
   "execution_count": null,
   "metadata": {},
   "outputs": [],
   "source": []
  }
 ],
 "metadata": {
  "kernelspec": {
   "display_name": "Python [conda env:orbit]",
   "language": "python",
   "name": "conda-env-orbit-py"
  },
  "language_info": {
   "codemirror_mode": {
    "name": "ipython",
    "version": 3
   },
   "file_extension": ".py",
   "mimetype": "text/x-python",
   "name": "python",
   "nbconvert_exporter": "python",
   "pygments_lexer": "ipython3",
   "version": "3.6.7"
  }
 },
 "nbformat": 4,
 "nbformat_minor": 2
}
