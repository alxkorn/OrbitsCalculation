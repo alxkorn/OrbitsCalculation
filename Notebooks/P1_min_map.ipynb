{
 "cells": [
  {
   "cell_type": "code",
   "execution_count": 1,
   "metadata": {
    "collapsed": true
   },
   "outputs": [],
   "source": [
    "%matplotlib notebook\n",
    "import orbipy as op\n",
    "import numpy as np\n",
    "import pandas as pd\n",
    "import pickle\n",
    "import matplotlib.pyplot as plt\n",
    "from copy import copy\n",
    "import glob"
   ]
  },
  {
   "cell_type": "code",
   "execution_count": 2,
   "metadata": {
    "collapsed": true
   },
   "outputs": [],
   "source": [
    "model = op.crtbp3_model()\n",
    "precise_model = op.crtbp3_model()\n",
    "precise_model.integrator.set_params(max_step=np.pi/180)\n",
    "stm_model = op.crtbp3_model(stm=True)"
   ]
  },
  {
   "cell_type": "code",
   "execution_count": 3,
   "metadata": {
    "collapsed": true
   },
   "outputs": [],
   "source": [
    "plotter = op.plotter.from_model(model, length_units='nd', velocity_units='nd/s')\n",
    "scaler = plotter.scaler"
   ]
  },
  {
   "cell_type": "code",
   "execution_count": 4,
   "metadata": {
    "collapsed": true
   },
   "outputs": [],
   "source": [
    "class Hyperbolic:\n",
    "    def __init__(self):\n",
    "        self.c2 = self.calc_c2()\n",
    "        self.lam = self.calc_lam()\n",
    "        self.omega = self.calc_omega()\n",
    "        self.k1 = self.calc_k1()\n",
    "        self.k2 = self.calc_k2()\n",
    "        self.k3 = self.calc_k3()\n",
    "        self.k4 = self.calc_k4()\n",
    "        \n",
    "    def p1(self, state):\n",
    "        (x, y) = state[:2]\n",
    "        (vx, vy) = state[3:5]\n",
    "        \n",
    "        return ((self.k3*self.omega*x-self.k1*vy)/(self.k1*self.k4*self.lam+self.k2*self.k3*self.omega) +\\\n",
    "                (self.k1*self.omega*y+self.k3*vx)/(self.k2*self.k3*self.lam-self.k1*self.k4*self.omega))/2\n",
    "    \n",
    "    def p2(self, state):\n",
    "        (x, y) = state[:2]\n",
    "        x -= model.L1\n",
    "        (vx, vy) = state[3:5]\n",
    "        \n",
    "        return ((self.k3*self.omega*x-self.k1*vy)/(self.k1*self.k4*self.lam+self.k2*self.k3*self.omega) -\\\n",
    "                (self.k1*self.omega*y+self.k3*vx)/(self.k2*self.k3*self.lam-self.k1*self.k4*self.omega))/2\n",
    "    \n",
    "    def calc_vy(self, state):\n",
    "        (x, y) = state[:2]\n",
    "        x -= model.L1\n",
    "        (vx, vy) = state[3:5]\n",
    "        \n",
    "        return (self.k3*self.omega*x+(self.k1*self.k4*self.lam+self.k2*self.k3*self.omega)*(self.k1*self.omega*y+self.k3*vx)/(self.k2*self.k3*self.lam-self.k1*self.k4*self.omega))/self.k1\n",
    "        \n",
    "    def calc_c2(self):\n",
    "        r1 = np.abs(model.L1+model.mu)\n",
    "        r2 = np.abs(model.L1+model.mu-1)\n",
    "        \n",
    "        return (1.-model.mu)/r1**3+model.mu/r2**3\n",
    "    \n",
    "    def calc_lam(self):\n",
    "        return np.sqrt((self.c2-2+np.sqrt(9*self.c2**2-8*self.c2))/2)\n",
    "    \n",
    "    def calc_omega(self):\n",
    "        return np.sqrt((-1.*self.c2+2+np.sqrt(9*self.c2**2-8*self.c2))/2)\n",
    "        \n",
    "    def calc_k1(self):\n",
    "        return -2/(self.c2+3+self.lam**2)\n",
    "    \n",
    "    def calc_k2(self):\n",
    "        return -2/(2*self.c2+1-self.lam**2)\n",
    "    \n",
    "    def calc_k3(self):\n",
    "        return (self.omega*(self.c2-1+self.lam**2))/((self.c2-1)*(self.c2+3+self.lam**2))\n",
    "    \n",
    "    def calc_k4(self):\n",
    "        return (self.lam*(-2*self.c2+3+self.lam**2))/((self.c2-1)*(-2*self.c2-1+self.lam**2))"
   ]
  },
  {
   "cell_type": "code",
   "execution_count": 11,
   "metadata": {
    "collapsed": true
   },
   "outputs": [],
   "source": [
    "fnames = glob.glob('/home/alex/gits/OrbitsDiploma/LogClean/*.bin')"
   ]
  },
  {
   "cell_type": "code",
   "execution_count": 18,
   "metadata": {
    "collapsed": true
   },
   "outputs": [],
   "source": [
    "hyp = Hyperbolic()"
   ]
  },
  {
   "cell_type": "code",
   "execution_count": 21,
   "metadata": {
    "collapsed": true
   },
   "outputs": [],
   "source": [
    "def find_min_p1(orbit):\n",
    "    p = 1e6\n",
    "    for _, state in orbit.iterrows():\n",
    "        current_p = hyp.p1(state[1:])\n",
    "        if current_p < p:\n",
    "            p = current_p\n",
    "    return p"
   ]
  },
  {
   "cell_type": "code",
   "execution_count": null,
   "metadata": {
    "collapsed": false
   },
   "outputs": [],
   "source": [
    "for fname in fnames:\n",
    "    map_elems = []\n",
    "    with open(fname, 'rb') as f:\n",
    "        row = pickle.load(f)\n",
    "    for elem in row:\n",
    "        orbit = elem['orbit']\n",
    "        x0 = orbit.iloc[0]['x']\n",
    "        z0 = orbit.iloc[0]['z']\n",
    "        p1_min = find_min_p1(orbit)\n",
    "        map_elems.append({'x': x0, 'z': z0, 'p1_min': p1_min})"
   ]
  },
  {
   "cell_type": "code",
   "execution_count": null,
   "metadata": {
    "collapsed": true
   },
   "outputs": [],
   "source": [
    "p1_min_df = pd.DataFrame(map_elems)"
   ]
  },
  {
   "cell_type": "code",
   "execution_count": null,
   "metadata": {
    "collapsed": true
   },
   "outputs": [],
   "source": [
    "del map_elems"
   ]
  },
  {
   "cell_type": "code",
   "execution_count": null,
   "metadata": {
    "collapsed": true
   },
   "outputs": [],
   "source": [
    "with open('p1_min_df.bin', 'wb') as f:\n",
    "    pickle.dump(p1_min_df, f)"
   ]
  }
 ],
 "metadata": {
  "anaconda-cloud": {},
  "kernelspec": {
   "display_name": "Python [conda env:orbit]",
   "language": "python",
   "name": "conda-env-orbit-py"
  },
  "language_info": {
   "codemirror_mode": {
    "name": "ipython",
    "version": 3
   },
   "file_extension": ".py",
   "mimetype": "text/x-python",
   "name": "python",
   "nbconvert_exporter": "python",
   "pygments_lexer": "ipython3",
   "version": "3.6.7"
  }
 },
 "nbformat": 4,
 "nbformat_minor": 1
}
